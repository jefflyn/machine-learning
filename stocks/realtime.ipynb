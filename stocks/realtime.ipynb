{
 "cells": [
  {
   "cell_type": "code",
   "execution_count": null,
   "metadata": {
    "collapsed": false
   },
   "outputs": [],
   "source": [
    "import tushare as ts\n",
    "import pandas as pd\n",
    "import time"
   ]
  },
  {
   "cell_type": "code",
   "execution_count": null,
   "metadata": {
    "collapsed": false
   },
   "outputs": [],
   "source": [
    "pd.set_option('display.max_rows',50)\n",
    "pd.set_option('display.max_columns',50)\n",
    "pd.set_option('display.width',500)"
   ]
  },
  {
   "cell_type": "code",
   "execution_count": null,
   "metadata": {
    "collapsed": false
   },
   "outputs": [],
   "source": [
    "coins = {\n",
    "    '601890' : [8.975,4300],\n",
    "    '603113' : [30.434,600]\n",
    "}\n",
    "coin_keys = coins.keys()\n",
    "print(coin_keys)\n"
   ]
  },
  {
   "cell_type": "code",
   "execution_count": null,
   "metadata": {
    "collapsed": true
   },
   "outputs": [],
   "source": [
    "\n",
    "while True : \n",
    "    df = ts.get_realtime_quotes(list(coin_keys))\n",
    "    data_list = []\n",
    "    for index,row in df.iterrows() :\n",
    "        code = row['code']\n",
    "        pre_close = float(row['pre_close'])\n",
    "        price = float(row['price'])\n",
    "\n",
    "        price_diff = price - pre_close\n",
    "        change_percent = price_diff / pre_close * 100\n",
    "\n",
    "        cost = coins[code][0]\n",
    "        share = coins[code][1]\n",
    "\n",
    "        cost_diff = price - cost\n",
    "        profit = (cost_diff) * share\n",
    "        profit_percent = cost_diff / cost * 100\n",
    "\n",
    "        datastr = str(\"%.3f%%\"%change_percent) + ',' + str(\"%.3f\"%cost_diff) + ',' + str(\"%.3f\"%profit) + ',' + str(\"%.3f%%\"%profit_percent)\n",
    "        data_list.append([astr for astr in datastr.split(',')])\n",
    "\n",
    "    df_append = pd.DataFrame(data_list, columns=['change_percent','cost_diff','profit','profit_percent'])\n",
    "    #print(df_append['change_percent'])\n",
    "    #df.insert(0,'change_percent',df_append['change_percent'])\n",
    "    df = df.join(df_append)\n",
    "\n",
    "    print(df[['code','price','change_percent','bid','ask','pre_close','open','low','high','cost_diff','profit','profit_percent','time']]) \n",
    "    time.sleep(3)"
   ]
  },
  {
   "cell_type": "code",
   "execution_count": null,
   "metadata": {
    "collapsed": false
   },
   "outputs": [],
   "source": []
  },
  {
   "cell_type": "code",
   "execution_count": null,
   "metadata": {
    "collapsed": false
   },
   "outputs": [],
   "source": []
  },
  {
   "cell_type": "code",
   "execution_count": null,
   "metadata": {
    "collapsed": false
   },
   "outputs": [],
   "source": []
  },
  {
   "cell_type": "code",
   "execution_count": null,
   "metadata": {
    "collapsed": true
   },
   "outputs": [],
   "source": []
  }
 ],
 "metadata": {
  "kernelspec": {
   "display_name": "Python 3",
   "language": "python",
   "name": "python3"
  },
  "language_info": {
   "codemirror_mode": {
    "name": "ipython",
    "version": 3
   },
   "file_extension": ".py",
   "mimetype": "text/x-python",
   "name": "python",
   "nbconvert_exporter": "python",
   "pygments_lexer": "ipython3",
   "version": "3.6.0"
  }
 },
 "nbformat": 4,
 "nbformat_minor": 2
}

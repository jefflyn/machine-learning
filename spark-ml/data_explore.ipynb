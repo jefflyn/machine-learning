{
 "cells": [
  {
   "cell_type": "code",
   "execution_count": 8,
   "metadata": {
    "collapsed": true
   },
   "outputs": [],
   "source": [
    "import org.apache.spark.SparkConf\n",
    "import org.apache.spark.SparkContext\n",
    "import org.apache.spark.SparkContext._\n"
   ]
  },
  {
   "cell_type": "code",
   "execution_count": 22,
   "metadata": {},
   "outputs": [
    {
     "data": {
      "text/plain": [
       "Name: Unknown Error\n",
       "Message: lastException: Throwable = null\n",
       "<console>:1: error: illegal start of definition\n",
       "#val conf = new SparkConf().setMaster(\"local\").setAppName(\"Data Expore\")\n",
       "^\n",
       "StackTrace: "
      ]
     },
     "execution_count": 22,
     "metadata": {},
     "output_type": "execute_result"
    }
   ],
   "source": [
    "#val conf = new SparkConf().setMaster(\"local\").setAppName(\"Data Expore\")\n",
    "#val sc = new SparkContext(conf)"
   ]
  },
  {
   "cell_type": "code",
   "execution_count": 2,
   "metadata": {},
   "outputs": [
    {
     "data": {
      "text/plain": [
       "1|24|M|technician|85711"
      ]
     },
     "execution_count": 2,
     "metadata": {},
     "output_type": "execute_result"
    }
   ],
   "source": [
    "val user_data = sc.textFile(\"hdfs:///data/spk-ml/u.user\")\n",
    "user_data.first()"
   ]
  },
  {
   "cell_type": "code",
   "execution_count": 3,
   "metadata": {},
   "outputs": [
    {
     "data": {
      "text/plain": [
       "Name: Compile Error\n",
       "Message: <console>:1: error: ')' expected but '(' found.\n",
       "user_fields = user_data.map(lambda line: line.split(\"|\"))\n",
       "                                                   ^\n",
       "<console>:1: error: ';' expected but ')' found.\n",
       "user_fields = user_data.map(lambda line: line.split(\"|\"))\n",
       "                                                        ^\n",
       "StackTrace: "
      ]
     },
     "execution_count": 3,
     "metadata": {},
     "output_type": "execute_result"
    }
   ],
   "source": [
    "user_fields = user_data.map(lambda line: line.split(\"|\"))\n",
    "num_users = user_fields.map(lambda fields: fields[0]).count()\n",
    "num_genders = user_fields.map(lambda fields:\n",
    "fields[2]).distinct().count()\n",
    "num_occupations = user_fields.map(lambda fields:\n",
    "fields[3]).distinct().count()\n",
    "num_zipcodes = user_fields.map(lambda fields:\n",
    "fields[4]).distinct().count()\n",
    "print \"Users: %d, genders: %d, occupations: %d, ZIP codes: %d\" % (num_users, num_genders,\n",
    "num_occupations, num_zipcodes)"
   ]
  },
  {
   "cell_type": "code",
   "execution_count": 4,
   "metadata": {},
   "outputs": [
    {
     "name": "stdout",
     "output_type": "stream",
     "text": [
      "1|24|M|technician|85711"
     ]
    }
   ],
   "source": [
    "print(user_data.first())"
   ]
  },
  {
   "cell_type": "code",
   "execution_count": 26,
   "metadata": {},
   "outputs": [
    {
     "data": {
      "text/plain": [
       "Name: Unknown Error\n",
       "Message: lastException: Throwable = null\n",
       "<console>:1: error: ')' expected but '(' found.\n",
       "ages = user_fields.map(lambda x: int(x[1])).collect()\n",
       "                                    ^\n",
       "<console>:1: error: ';' expected but ')' found.\n",
       "ages = user_fields.map(lambda x: int(x[1])).collect()\n",
       "                                          ^\n",
       "StackTrace: "
      ]
     },
     "execution_count": 26,
     "metadata": {},
     "output_type": "execute_result"
    }
   ],
   "source": [
    "ages = user_fields.map(lambda x: int(x[1])).collect()\n",
    "hist(ages, bins=20, color='lightblue', normed=True)\n",
    "fig = matplotlib.pyplot.gcf()\n",
    "fig.set_size_inches(16, 10)"
   ]
  },
  {
   "cell_type": "code",
   "execution_count": null,
   "metadata": {
    "collapsed": true
   },
   "outputs": [],
   "source": []
  }
 ],
 "metadata": {
  "kernelspec": {
   "display_name": "Spark2.0 - Scala",
   "language": "scala",
   "name": "spark2.0_scala"
  },
  "language_info": {
   "file_extension": ".scala",
   "name": "scala",
   "version": "2.11.8"
  }
 },
 "nbformat": 4,
 "nbformat_minor": 2
}

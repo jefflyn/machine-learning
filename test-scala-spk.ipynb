{
 "cells": [
  {
   "cell_type": "code",
   "execution_count": 1,
   "metadata": {
    "collapsed": false
   },
   "outputs": [
    {
     "ename": "",
     "evalue": "",
     "output_type": "error",
     "traceback": [
      "Compilation Failed",
      "\u001b[31mMain.scala:48: object apache is not a member of package org",
      "                import org.apache.spark.SparkConf ; import org.apache.spark.SparkContext ; import org.apache.spark.SparkContext._",
      "                           ^\u001b[0m",
      "\u001b[31mMain.scala:48: object apache is not a member of package org",
      "                import org.apache.spark.SparkConf ; import org.apache.spark.SparkContext ; import org.apache.spark.SparkContext._",
      "                                                               ^\u001b[0m",
      "\u001b[31mMain.scala:48: object apache is not a member of package org",
      "                import org.apache.spark.SparkConf ; import org.apache.spark.SparkContext ; import org.apache.spark.SparkContext._",
      "                                                                                                      ^\u001b[0m"
     ]
    }
   ],
   "source": [
    "import org.apache.spark.SparkConf\n",
    "import org.apache.spark.SparkContext\n",
    "import org.apache.spark.SparkContext._"
   ]
  },
  {
   "cell_type": "code",
   "execution_count": null,
   "metadata": {
    "collapsed": true
   },
   "outputs": [],
   "source": []
  }
 ],
 "metadata": {
  "kernelspec": {
   "display_name": "Spark2.1 - Scala",
   "language": "scala",
   "name": "spark2.1_scala"
  },
  "language_info": {
   "file_extension": ".scala",
   "name": "scala",
   "version": "2.11.8"
  }
 },
 "nbformat": 4,
 "nbformat_minor": 2
}

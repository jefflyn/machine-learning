{
 "cells": [
  {
   "cell_type": "code",
   "execution_count": 30,
   "metadata": {
    "collapsed": false
   },
   "outputs": [],
   "source": [
    "import numpy as np\n",
    "import pandas as pd\n",
    "import matplotlib as plt\n",
    "%matplotlib inline"
   ]
  },
  {
   "cell_type": "code",
   "execution_count": 6,
   "metadata": {
    "collapsed": false
   },
   "outputs": [],
   "source": [
    "df = pd.DataFrame([10,20,30,40],columns=['numbers'],index=['a','b','c','d'])"
   ]
  },
  {
   "cell_type": "code",
   "execution_count": 7,
   "metadata": {
    "collapsed": false
   },
   "outputs": [
    {
     "data": {
      "text/html": [
       "<div>\n",
       "<table border=\"1\" class=\"dataframe\">\n",
       "  <thead>\n",
       "    <tr style=\"text-align: right;\">\n",
       "      <th></th>\n",
       "      <th>numbers</th>\n",
       "    </tr>\n",
       "  </thead>\n",
       "  <tbody>\n",
       "    <tr>\n",
       "      <th>a</th>\n",
       "      <td>10</td>\n",
       "    </tr>\n",
       "    <tr>\n",
       "      <th>b</th>\n",
       "      <td>20</td>\n",
       "    </tr>\n",
       "    <tr>\n",
       "      <th>c</th>\n",
       "      <td>30</td>\n",
       "    </tr>\n",
       "    <tr>\n",
       "      <th>d</th>\n",
       "      <td>40</td>\n",
       "    </tr>\n",
       "  </tbody>\n",
       "</table>\n",
       "</div>"
      ],
      "text/plain": [
       "   numbers\n",
       "a       10\n",
       "b       20\n",
       "c       30\n",
       "d       40"
      ]
     },
     "execution_count": 7,
     "metadata": {},
     "output_type": "execute_result"
    }
   ],
   "source": [
    "df"
   ]
  },
  {
   "cell_type": "code",
   "execution_count": 23,
   "metadata": {
    "collapsed": false
   },
   "outputs": [
    {
     "data": {
      "text/plain": [
       "array([[ 0.282243,  0.791661,  0.062232,  0.805253],\n",
       "       [-0.520973, -0.604534,  0.016242,  0.39725 ],\n",
       "       [-0.463268,  0.018559, -0.986068,  0.490927],\n",
       "       [-0.541942,  1.912059,  0.626187,  0.85456 ],\n",
       "       [-1.721752,  0.060935,  0.809949, -0.050753],\n",
       "       [ 0.33075 , -1.792819, -0.0707  ,  0.424535],\n",
       "       [-0.446869, -1.338583,  0.07447 ,  0.081812],\n",
       "       [ 0.050311,  1.343056,  0.642304, -0.858766],\n",
       "       [ 1.78547 , -0.036532,  0.868508, -0.212444]])"
      ]
     },
     "execution_count": 23,
     "metadata": {},
     "output_type": "execute_result"
    }
   ],
   "source": [
    "#生成一个包含9行4列标准正态分布伪随机数的numpy.ndarray\n",
    "a=np.random.standard_normal((9,4))\n",
    "a.round(6)"
   ]
  },
  {
   "cell_type": "code",
   "execution_count": 24,
   "metadata": {
    "collapsed": false
   },
   "outputs": [
    {
     "data": {
      "text/html": [
       "<div>\n",
       "<table border=\"1\" class=\"dataframe\">\n",
       "  <thead>\n",
       "    <tr style=\"text-align: right;\">\n",
       "      <th></th>\n",
       "      <th>no1</th>\n",
       "      <th>no2</th>\n",
       "      <th>no3</th>\n",
       "      <th>no4</th>\n",
       "    </tr>\n",
       "  </thead>\n",
       "  <tbody>\n",
       "    <tr>\n",
       "      <th>0</th>\n",
       "      <td>0.282243</td>\n",
       "      <td>0.791661</td>\n",
       "      <td>0.062232</td>\n",
       "      <td>0.805253</td>\n",
       "    </tr>\n",
       "    <tr>\n",
       "      <th>1</th>\n",
       "      <td>-0.520973</td>\n",
       "      <td>-0.604534</td>\n",
       "      <td>0.016242</td>\n",
       "      <td>0.397250</td>\n",
       "    </tr>\n",
       "    <tr>\n",
       "      <th>2</th>\n",
       "      <td>-0.463268</td>\n",
       "      <td>0.018559</td>\n",
       "      <td>-0.986068</td>\n",
       "      <td>0.490927</td>\n",
       "    </tr>\n",
       "    <tr>\n",
       "      <th>3</th>\n",
       "      <td>-0.541942</td>\n",
       "      <td>1.912059</td>\n",
       "      <td>0.626187</td>\n",
       "      <td>0.854560</td>\n",
       "    </tr>\n",
       "    <tr>\n",
       "      <th>4</th>\n",
       "      <td>-1.721752</td>\n",
       "      <td>0.060935</td>\n",
       "      <td>0.809949</td>\n",
       "      <td>-0.050753</td>\n",
       "    </tr>\n",
       "    <tr>\n",
       "      <th>5</th>\n",
       "      <td>0.330750</td>\n",
       "      <td>-1.792819</td>\n",
       "      <td>-0.070700</td>\n",
       "      <td>0.424535</td>\n",
       "    </tr>\n",
       "    <tr>\n",
       "      <th>6</th>\n",
       "      <td>-0.446869</td>\n",
       "      <td>-1.338583</td>\n",
       "      <td>0.074470</td>\n",
       "      <td>0.081812</td>\n",
       "    </tr>\n",
       "    <tr>\n",
       "      <th>7</th>\n",
       "      <td>0.050311</td>\n",
       "      <td>1.343056</td>\n",
       "      <td>0.642304</td>\n",
       "      <td>-0.858766</td>\n",
       "    </tr>\n",
       "    <tr>\n",
       "      <th>8</th>\n",
       "      <td>1.785470</td>\n",
       "      <td>-0.036532</td>\n",
       "      <td>0.868508</td>\n",
       "      <td>-0.212444</td>\n",
       "    </tr>\n",
       "  </tbody>\n",
       "</table>\n",
       "</div>"
      ],
      "text/plain": [
       "        no1       no2       no3       no4\n",
       "0  0.282243  0.791661  0.062232  0.805253\n",
       "1 -0.520973 -0.604534  0.016242  0.397250\n",
       "2 -0.463268  0.018559 -0.986068  0.490927\n",
       "3 -0.541942  1.912059  0.626187  0.854560\n",
       "4 -1.721752  0.060935  0.809949 -0.050753\n",
       "5  0.330750 -1.792819 -0.070700  0.424535\n",
       "6 -0.446869 -1.338583  0.074470  0.081812\n",
       "7  0.050311  1.343056  0.642304 -0.858766\n",
       "8  1.785470 -0.036532  0.868508 -0.212444"
      ]
     },
     "execution_count": 24,
     "metadata": {},
     "output_type": "execute_result"
    }
   ],
   "source": [
    "df=pd.DataFrame(a)\n",
    "df.columns=[['no1','no2','no3','no4']]\n",
    "df"
   ]
  },
  {
   "cell_type": "code",
   "execution_count": 25,
   "metadata": {
    "collapsed": false
   },
   "outputs": [
    {
     "data": {
      "text/plain": [
       "no1   -1.246029\n",
       "no2    0.353801\n",
       "no3    2.043123\n",
       "no4    1.932374\n",
       "dtype: float64"
      ]
     },
     "execution_count": 25,
     "metadata": {},
     "output_type": "execute_result"
    }
   ],
   "source": [
    "df.sum()"
   ]
  },
  {
   "cell_type": "code",
   "execution_count": 26,
   "metadata": {
    "collapsed": false
   },
   "outputs": [
    {
     "data": {
      "text/html": [
       "<div>\n",
       "<table border=\"1\" class=\"dataframe\">\n",
       "  <thead>\n",
       "    <tr style=\"text-align: right;\">\n",
       "      <th></th>\n",
       "      <th>no1</th>\n",
       "      <th>no2</th>\n",
       "      <th>no3</th>\n",
       "      <th>no4</th>\n",
       "    </tr>\n",
       "  </thead>\n",
       "  <tbody>\n",
       "    <tr>\n",
       "      <th>0</th>\n",
       "      <td>0.282243</td>\n",
       "      <td>0.791661</td>\n",
       "      <td>0.062232</td>\n",
       "      <td>0.805253</td>\n",
       "    </tr>\n",
       "    <tr>\n",
       "      <th>1</th>\n",
       "      <td>-0.238730</td>\n",
       "      <td>0.187127</td>\n",
       "      <td>0.078474</td>\n",
       "      <td>1.202502</td>\n",
       "    </tr>\n",
       "    <tr>\n",
       "      <th>2</th>\n",
       "      <td>-0.701999</td>\n",
       "      <td>0.205686</td>\n",
       "      <td>-0.907594</td>\n",
       "      <td>1.693429</td>\n",
       "    </tr>\n",
       "    <tr>\n",
       "      <th>3</th>\n",
       "      <td>-1.243940</td>\n",
       "      <td>2.117745</td>\n",
       "      <td>-0.281407</td>\n",
       "      <td>2.547990</td>\n",
       "    </tr>\n",
       "    <tr>\n",
       "      <th>4</th>\n",
       "      <td>-2.965692</td>\n",
       "      <td>2.178680</td>\n",
       "      <td>0.528542</td>\n",
       "      <td>2.497237</td>\n",
       "    </tr>\n",
       "    <tr>\n",
       "      <th>5</th>\n",
       "      <td>-2.634942</td>\n",
       "      <td>0.385861</td>\n",
       "      <td>0.457842</td>\n",
       "      <td>2.921772</td>\n",
       "    </tr>\n",
       "    <tr>\n",
       "      <th>6</th>\n",
       "      <td>-3.081811</td>\n",
       "      <td>-0.952722</td>\n",
       "      <td>0.532312</td>\n",
       "      <td>3.003584</td>\n",
       "    </tr>\n",
       "    <tr>\n",
       "      <th>7</th>\n",
       "      <td>-3.031499</td>\n",
       "      <td>0.390334</td>\n",
       "      <td>1.174616</td>\n",
       "      <td>2.144818</td>\n",
       "    </tr>\n",
       "    <tr>\n",
       "      <th>8</th>\n",
       "      <td>-1.246029</td>\n",
       "      <td>0.353801</td>\n",
       "      <td>2.043123</td>\n",
       "      <td>1.932374</td>\n",
       "    </tr>\n",
       "  </tbody>\n",
       "</table>\n",
       "</div>"
      ],
      "text/plain": [
       "        no1       no2       no3       no4\n",
       "0  0.282243  0.791661  0.062232  0.805253\n",
       "1 -0.238730  0.187127  0.078474  1.202502\n",
       "2 -0.701999  0.205686 -0.907594  1.693429\n",
       "3 -1.243940  2.117745 -0.281407  2.547990\n",
       "4 -2.965692  2.178680  0.528542  2.497237\n",
       "5 -2.634942  0.385861  0.457842  2.921772\n",
       "6 -3.081811 -0.952722  0.532312  3.003584\n",
       "7 -3.031499  0.390334  1.174616  2.144818\n",
       "8 -1.246029  0.353801  2.043123  1.932374"
      ]
     },
     "execution_count": 26,
     "metadata": {},
     "output_type": "execute_result"
    }
   ],
   "source": [
    "df.cumsum()"
   ]
  },
  {
   "cell_type": "code",
   "execution_count": 27,
   "metadata": {
    "collapsed": false
   },
   "outputs": [
    {
     "data": {
      "text/html": [
       "<div>\n",
       "<table border=\"1\" class=\"dataframe\">\n",
       "  <thead>\n",
       "    <tr style=\"text-align: right;\">\n",
       "      <th></th>\n",
       "      <th>no1</th>\n",
       "      <th>no2</th>\n",
       "      <th>no3</th>\n",
       "      <th>no4</th>\n",
       "    </tr>\n",
       "  </thead>\n",
       "  <tbody>\n",
       "    <tr>\n",
       "      <th>count</th>\n",
       "      <td>9.000000</td>\n",
       "      <td>9.000000</td>\n",
       "      <td>9.000000</td>\n",
       "      <td>9.000000</td>\n",
       "    </tr>\n",
       "    <tr>\n",
       "      <th>mean</th>\n",
       "      <td>-0.138448</td>\n",
       "      <td>0.039311</td>\n",
       "      <td>0.227014</td>\n",
       "      <td>0.214708</td>\n",
       "    </tr>\n",
       "    <tr>\n",
       "      <th>std</th>\n",
       "      <td>0.945439</td>\n",
       "      <td>1.196320</td>\n",
       "      <td>0.585041</td>\n",
       "      <td>0.540224</td>\n",
       "    </tr>\n",
       "    <tr>\n",
       "      <th>min</th>\n",
       "      <td>-1.721752</td>\n",
       "      <td>-1.792819</td>\n",
       "      <td>-0.986068</td>\n",
       "      <td>-0.858766</td>\n",
       "    </tr>\n",
       "    <tr>\n",
       "      <th>25%</th>\n",
       "      <td>-0.520973</td>\n",
       "      <td>-0.604534</td>\n",
       "      <td>0.016242</td>\n",
       "      <td>-0.050753</td>\n",
       "    </tr>\n",
       "    <tr>\n",
       "      <th>50%</th>\n",
       "      <td>-0.446869</td>\n",
       "      <td>0.018559</td>\n",
       "      <td>0.074470</td>\n",
       "      <td>0.397250</td>\n",
       "    </tr>\n",
       "    <tr>\n",
       "      <th>75%</th>\n",
       "      <td>0.282243</td>\n",
       "      <td>0.791661</td>\n",
       "      <td>0.642304</td>\n",
       "      <td>0.490927</td>\n",
       "    </tr>\n",
       "    <tr>\n",
       "      <th>max</th>\n",
       "      <td>1.785470</td>\n",
       "      <td>1.912059</td>\n",
       "      <td>0.868508</td>\n",
       "      <td>0.854560</td>\n",
       "    </tr>\n",
       "  </tbody>\n",
       "</table>\n",
       "</div>"
      ],
      "text/plain": [
       "            no1       no2       no3       no4\n",
       "count  9.000000  9.000000  9.000000  9.000000\n",
       "mean  -0.138448  0.039311  0.227014  0.214708\n",
       "std    0.945439  1.196320  0.585041  0.540224\n",
       "min   -1.721752 -1.792819 -0.986068 -0.858766\n",
       "25%   -0.520973 -0.604534  0.016242 -0.050753\n",
       "50%   -0.446869  0.018559  0.074470  0.397250\n",
       "75%    0.282243  0.791661  0.642304  0.490927\n",
       "max    1.785470  1.912059  0.868508  0.854560"
      ]
     },
     "execution_count": 27,
     "metadata": {},
     "output_type": "execute_result"
    }
   ],
   "source": [
    "df.describe()"
   ]
  },
  {
   "cell_type": "code",
   "execution_count": 31,
   "metadata": {
    "collapsed": false
   },
   "outputs": [
    {
     "data": {
      "text/plain": [
       "<matplotlib.axes._subplots.AxesSubplot at 0x118d30cc0>"
      ]
     },
     "execution_count": 31,
     "metadata": {},
     "output_type": "execute_result"
    },
    {
     "data": {
      "image/png": "[encoded data removed]",
      "text/plain": [
       "<matplotlib.figure.Figure at 0x118cca2b0>"
      ]
     },
     "metadata": {},
     "output_type": "display_data"
    }
   ],
   "source": [
    "df.cumsum().plot(lw=2.0)\n"
   ]
  },
  {
   "cell_type": "code",
   "execution_count": 32,
   "metadata": {
    "collapsed": false
   },
   "outputs": [
    {
     "data": {
      "text/plain": [
       "<matplotlib.axes._subplots.AxesSubplot at 0x118cf80f0>"
      ]
     },
     "execution_count": 32,
     "metadata": {},
     "output_type": "execute_result"
    },
    {
     "data": {
      "image/png": "[encoded data removed]",
      "text/plain": [
       "<matplotlib.figure.Figure at 0x118e16470>"
      ]
     },
     "metadata": {},
     "output_type": "display_data"
    }
   ],
   "source": [
    "ts = pd.Series(np.random.randn(1000), index=pd.date_range('1/1/2000', periods=1000))\n",
    "ts = ts.cumsum()\n",
    "ts.plot()"
   ]
  },
  {
   "cell_type": "code",
   "execution_count": null,
   "metadata": {
    "collapsed": true
   },
   "outputs": [],
   "source": []
  }
 ],
 "metadata": {
  "kernelspec": {
   "display_name": "Python 3",
   "language": "python",
   "name": "python3"
  },
  "language_info": {
   "codemirror_mode": {
    "name": "ipython",
    "version": 3
   },
   "file_extension": ".py",
   "mimetype": "text/x-python",
   "name": "python",
   "nbconvert_exporter": "python",
   "pygments_lexer": "ipython3",
   "version": "3.6.0"
  }
 },
 "nbformat": 4,
 "nbformat_minor": 2
}

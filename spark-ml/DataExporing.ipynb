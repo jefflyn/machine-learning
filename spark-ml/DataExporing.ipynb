{
 "cells": [
  {
   "cell_type": "code",
   "execution_count": null,
   "metadata": {
    "collapsed": false
   },
   "outputs": [],
   "source": [
    "from pyspark import SparkConf, SparkContext\n",
    "import numpy as np\n",
    "import matplotlib.pyplot as plt\n",
    "%matplotlib inline\n",
    "\n",
    "import sys,os\n",
    "#os.environ\n",
    "\n"
   ]
  },
  {
   "cell_type": "code",
   "execution_count": null,
   "metadata": {
    "collapsed": false
   },
   "outputs": [],
   "source": [
    "conf = sc.getConf()\n",
    "conf.setAppName(\"Data Expore\")"
   ]
  },
  {
   "cell_type": "code",
   "execution_count": null,
   "metadata": {
    "collapsed": false
   },
   "outputs": [],
   "source": [
    "print(conf.toDebugString())"
   ]
  },
  {
   "cell_type": "code",
   "execution_count": null,
   "metadata": {
    "collapsed": false
   },
   "outputs": [],
   "source": [
    "user_data = sc.textFile(\"hdfs:///data/spk-ml/u.user\") #user id | age | gender | occupation | zip code\n",
    "user_data.first()"
   ]
  },
  {
   "cell_type": "code",
   "execution_count": null,
   "metadata": {
    "collapsed": false
   },
   "outputs": [],
   "source": [
    "user_fields = user_data.map(lambda line: line.split(\"|\"))\n",
    "#user_fields.collect()"
   ]
  },
  {
   "cell_type": "code",
   "execution_count": null,
   "metadata": {
    "collapsed": true
   },
   "outputs": [],
   "source": [
    "#探索用户数据"
   ]
  },
  {
   "cell_type": "code",
   "execution_count": null,
   "metadata": {
    "collapsed": true
   },
   "outputs": [],
   "source": [
    "num_users = user_fields.map(lambda fields: fields[0]).count()\n",
    "#print(num_users)"
   ]
  },
  {
   "cell_type": "code",
   "execution_count": null,
   "metadata": {
    "collapsed": false
   },
   "outputs": [],
   "source": [
    "num_genders = user_fields.map(lambda fields:fields[2]).distinct().count()\n",
    "#print(num_genders)"
   ]
  },
  {
   "cell_type": "code",
   "execution_count": null,
   "metadata": {
    "collapsed": false
   },
   "outputs": [],
   "source": [
    "num_occupations = user_fields.map(lambda fields:fields[3]).distinct().count()\n"
   ]
  },
  {
   "cell_type": "code",
   "execution_count": null,
   "metadata": {
    "collapsed": false
   },
   "outputs": [],
   "source": [
    "num_zipcodes = user_fields.map(lambda fields:fields[4]).distinct().count()\n",
    "#print \"Users: %d, genders: %d, occupations: %d, ZIP codes: %d\" % (num_users, num_genders,num_occupations, num_zipcodes) #python2\n",
    "print(num_genders,num_occupations, num_zipcodes)"
   ]
  },
  {
   "cell_type": "code",
   "execution_count": null,
   "metadata": {
    "collapsed": true
   },
   "outputs": [],
   "source": [
    "#年龄分布"
   ]
  },
  {
   "cell_type": "code",
   "execution_count": 16,
   "metadata": {
    "collapsed": false
   },
   "outputs": [
    {
     "name": "stdout",
     "output_type": "stream",
     "text": [
      "61 32\n",
      "0.5245901639344263\n"
     ]
    }
   ],
   "source": [
    "ages = user_fields.map(lambda x: int(x[1]))\n",
    "total_size = ages.distinct().count()\n",
    "ages_30_size = ages.filter(lambda x: x == 20).count()\n",
    "print(total_size, ages_30_size)\n",
    "print(ages_30_size / total_size)"
   ]
  },
  {
   "cell_type": "code",
   "execution_count": null,
   "metadata": {
    "collapsed": false
   },
   "outputs": [],
   "source": [
    "ages = user_fields.map(lambda x: int(x[1])).collect()\n",
    "plt.hist(ages, bins=30, color='lightblue', normed=True)\n",
    "fig = plt.gcf()\n",
    "fig.set_size_inches(16, 10)\n",
    "#plt.show()"
   ]
  },
  {
   "cell_type": "code",
   "execution_count": 22,
   "metadata": {
    "collapsed": false
   },
   "outputs": [],
   "source": [
    "#user_fields.map(lambda fields: (fields[3], 1)).collect()\n",
    "#职业分布"
   ]
  },
  {
   "cell_type": "code",
   "execution_count": 20,
   "metadata": {
    "collapsed": false
   },
   "outputs": [
    {
     "data": {
      "text/plain": [
       "[('engineer', 67),\n",
       " ('homemaker', 7),\n",
       " ('doctor', 7),\n",
       " ('administrator', 79),\n",
       " ('student', 196),\n",
       " ('programmer', 66),\n",
       " ('other', 105),\n",
       " ('executive', 32),\n",
       " ('retired', 14),\n",
       " ('artist', 28),\n",
       " ('none', 9),\n",
       " ('educator', 95),\n",
       " ('scientist', 31),\n",
       " ('lawyer', 12),\n",
       " ('writer', 45),\n",
       " ('technician', 27),\n",
       " ('librarian', 51),\n",
       " ('salesman', 12),\n",
       " ('healthcare', 16),\n",
       " ('marketing', 26),\n",
       " ('entertainment', 18)]"
      ]
     },
     "execution_count": 20,
     "metadata": {},
     "output_type": "execute_result"
    }
   ],
   "source": [
    "user_fields.map(lambda fields: (fields[3], 1)).reduceByKey(lambda x, y: x + y).collect()"
   ]
  },
  {
   "cell_type": "code",
   "execution_count": 17,
   "metadata": {
    "collapsed": false
   },
   "outputs": [],
   "source": [
    "count_by_occupation = user_fields.map(lambda fields: (fields[3], 1)).reduceByKey(lambda x, y: x + y).collect()\n",
    "x_axis1 = np.array([c[0] for c in count_by_occupation])\n",
    "y_axis1 = np.array([c[1] for c in count_by_occupation])"
   ]
  },
  {
   "cell_type": "code",
   "execution_count": 31,
   "metadata": {
    "collapsed": false
   },
   "outputs": [
    {
     "name": "stdout",
     "output_type": "stream",
     "text": [
      "['engineer' 'homemaker' 'doctor' 'administrator' 'student' 'programmer'\n",
      " 'other' 'executive' 'retired' 'artist' 'none' 'educator' 'scientist'\n",
      " 'lawyer' 'writer' 'technician' 'librarian' 'salesman' 'healthcare'\n",
      " 'marketing' 'entertainment']\n",
      "[ 67   7   7  79 196  66 105  32  14  28   9  95  31  12  45  27  51  12\n",
      "  16  26  18]\n",
      "[ 1  2 10 17 13  8 18 20 19 15  9 12  7 14 16  5  0  3 11  6  4]\n",
      "['hell9' 'hoeo4' 'jjos6']\n",
      "['jjos6' 'hell9' 'hoeo4']\n"
     ]
    }
   ],
   "source": [
    "print(x_axis1)\n",
    "print(y_axis1)\n",
    "print(np.argsort(y_axis1))\n",
    "\n",
    "x=np.array(['hell9','hoeo4','jjos6'])\n",
    "print(x)\n",
    "y=[2,0,1]\n",
    "x=x[y]\n",
    "print(x)"
   ]
  },
  {
   "cell_type": "code",
   "execution_count": 34,
   "metadata": {
    "collapsed": true
   },
   "outputs": [],
   "source": [
    "x_axis = x_axis1[np.argsort(y_axis1)] #获取y_axis1数组的indices，并排序好输出\n",
    "y_axis = y_axis1[np.argsort(y_axis1)]"
   ]
  },
  {
   "cell_type": "code",
   "execution_count": 35,
   "metadata": {
    "collapsed": false
   },
   "outputs": [
    {
     "name": "stdout",
     "output_type": "stream",
     "text": [
      "[ 0  1  2  3  4  5  6  7  8  9 10 11 12 13 14 15 16 17 18 19 20]\n"
     ]
    }
   ],
   "source": [
    "pos = np.arange(len(x_axis))\n",
    "print(pos)"
   ]
  },
  {
   "cell_type": "code",
   "execution_count": null,
   "metadata": {
    "collapsed": false
   },
   "outputs": [],
   "source": [
    "pos = np.arange(len(x_axis))\n",
    "width = 1.0\n",
    "ax = plt.axes()\n",
    "ax.set_xticks(pos + (width / 2))\n",
    "ax.set_xticklabels(x_axis)\n",
    "plt.bar(pos, y_axis, width, color='lightblue')\n",
    "plt.xticks(rotation=30)\n",
    "fig = plt.gcf()\n",
    "fig.set_size_inches(16, 10)"
   ]
  },
  {
   "cell_type": "code",
   "execution_count": 38,
   "metadata": {
    "collapsed": false
   },
   "outputs": [
    {
     "name": "stdout",
     "output_type": "stream",
     "text": [
      "Map-reduce approach:\n",
      "{'scientist': 31, 'doctor': 7, 'administrator': 79, 'marketing': 26, 'student': 196, 'entertainment': 18, 'other': 105, 'retired': 14, 'salesman': 12, 'engineer': 67, 'homemaker': 7, 'technician': 27, 'librarian': 51, 'healthcare': 16, 'programmer': 66, 'executive': 32, 'none': 9, 'lawyer': 12, 'artist': 28, 'writer': 45, 'educator': 95}\n",
      "countByValue approach:\n",
      "{'engineer': 67, 'scientist': 31, 'marketing': 26, 'homemaker': 7, 'doctor': 7, 'technician': 27, 'administrator': 79, 'librarian': 51, 'student': 196, 'healthcare': 16, 'programmer': 66, 'salesman': 12, 'other': 105, 'executive': 32, 'none': 9, 'lawyer': 12, 'writer': 45, 'artist': 28, 'retired': 14, 'entertainment': 18, 'educator': 95}\n"
     ]
    }
   ],
   "source": [
    "count_by_occupation2 = user_fields.map(lambda fields: fields[3]).countByValue()\n",
    "print(\"Map-reduce approach:\")\n",
    "print(dict(count_by_occupation2))\n",
    "print(\"countByValue approach:\")\n",
    "print(dict(count_by_occupation))"
   ]
  },
  {
   "cell_type": "code",
   "execution_count": null,
   "metadata": {
    "collapsed": true
   },
   "outputs": [],
   "source": []
  },
  {
   "cell_type": "code",
   "execution_count": null,
   "metadata": {
    "collapsed": true
   },
   "outputs": [],
   "source": []
  },
  {
   "cell_type": "code",
   "execution_count": null,
   "metadata": {
    "collapsed": true
   },
   "outputs": [],
   "source": []
  },
  {
   "cell_type": "code",
   "execution_count": null,
   "metadata": {
    "collapsed": true
   },
   "outputs": [],
   "source": []
  }
 ],
 "metadata": {
  "anaconda-cloud": {},
  "kernelspec": {
   "display_name": "Python [default]",
   "language": "python",
   "name": "python3"
  },
  "language_info": {
   "codemirror_mode": {
    "name": "ipython",
    "version": 3
   },
   "file_extension": ".py",
   "mimetype": "text/x-python",
   "name": "python",
   "nbconvert_exporter": "python",
   "pygments_lexer": "ipython3",
   "version": "3.5.2"
  }
 },
 "nbformat": 4,
 "nbformat_minor": 2
}

{
 "cells": [
  {
   "cell_type": "code",
   "execution_count": 62,
   "metadata": {
    "collapsed": false
   },
   "outputs": [
    {
     "name": "stdout",
     "output_type": "stream",
     "text": [
      "2017-08-11 13:00:00\n"
     ]
    }
   ],
   "source": [
    "import tushare as ts\n",
    "import pandas as pd\n",
    "import time\n",
    "import datetime\n",
    "\n",
    "pd.set_option('display.max_rows',50)\n",
    "pd.set_option('display.max_columns',80)\n",
    "pd.set_option('display.width',600)\n",
    "\n",
    "t_str = '2017-08-11 13:00:00'\n",
    "blackdate = datetime.datetime.strptime(t_str, '%Y-%m-%d %H:%M:%S')\n",
    "print(blackdate)"
   ]
  },
  {
   "cell_type": "code",
   "execution_count": 63,
   "metadata": {
    "collapsed": false
   },
   "outputs": [],
   "source": [
    "simdf = pd.read_csv(\"./sim.txt\", sep=' ')"
   ]
  },
  {
   "cell_type": "code",
   "execution_count": 65,
   "metadata": {
    "collapsed": false
   },
   "outputs": [
    {
     "name": "stdout",
     "output_type": "stream",
     "text": [
      "28\n"
     ]
    }
   ],
   "source": [
    "codes = list(simdf['code'])\n",
    "print(len(codes))"
   ]
  },
  {
   "cell_type": "code",
   "execution_count": 58,
   "metadata": {
    "collapsed": false
   },
   "outputs": [],
   "source": [
    "df = ts.get_realtime_quotes(codes)\n",
    "data_list = []\n",
    "for index,row in df.iterrows() :\n",
    "    code = row['code'] if row['code'] not in ['000001'] else 'sh'\n",
    "    pre_close = float(row['pre_close'])\n",
    "    price = float(row['price'])\n",
    "    price_diff = price - pre_close\n",
    "    change_percent = price_diff / pre_close * 100\n",
    "    \n",
    "    index = list(simdf['code']).index(code)\n",
    "    cost = simdf.ix[index,'cost']\n",
    "    share = simdf.ix[index,'share']\n",
    "    cost_diff = price - cost\n",
    "    profit = (cost_diff) * share\n",
    "    profit_percent = cost_diff / cost * 100.0\n",
    "    datastr = str(\"%.3f%%\"%change_percent) + ',' + str(\"%.3f\"%cost_diff) + ',' + str(\"%.3f\"%profit) + ',' + str(\"%.3f\"%profit_percent)\n",
    "    data_list.append([astr for astr in datastr.split(',')])\n",
    "    df_append = pd.DataFrame(data_list, columns=['change_percent','cost_diff','profit','profit_percent'])\n",
    "    "
   ]
  },
  {
   "cell_type": "code",
   "execution_count": 59,
   "metadata": {
    "collapsed": false
   },
   "outputs": [
    {
     "name": "stdout",
     "output_type": "stream",
     "text": [
      "      code   name      price  change_percent     bid     ask  pre_close       open        low       high      time cost_diff     profit profit_percent\n",
      "9   000935   四川双马      0.000        -100.000   0.000   0.000     23.060      0.000      0.000      0.000  14:53:00   -23.060  -2306.000      -100.000%\n",
      "5   000672   上峰水泥     10.340          -9.139  10.340  10.350     11.380     11.200     10.300     11.230  14:53:51    -0.510    -51.000        -4.700%\n",
      "3   000630   铜陵有色      2.990          -7.430   2.980   2.990      3.230      3.170      2.970      3.180  14:53:51    -0.060     -6.000        -1.967%\n",
      "11  002114   罗平锌电     21.080          -7.014  21.070  21.080     22.670     21.960     20.810     22.180  14:53:51    -0.160    -16.000        -0.753%\n",
      "15  600069   银鸽投资      8.720          -5.320   8.720   8.730      9.210      9.200      8.720      9.200  14:53:51    -0.170    -17.000        -1.912%\n",
      "23  600908   无锡银行     11.120          -4.467  11.130  11.150     11.640     11.500     11.080     11.580  14:53:51    -0.150    -15.000        -1.331%\n",
      "19  600570   恒生电子     41.790          -4.041  41.780  41.790     43.550     42.900     41.650     43.200  14:53:51    -0.720    -72.000        -1.694%\n",
      "8   000909   数源科技     12.240          -3.622  12.230  12.240     12.700     12.450     12.230     12.750  14:53:48    -0.230    -23.000        -1.844%\n",
      "13  002813   路畅科技     30.530          -3.386  30.530  30.540     31.600     31.330     30.520     31.480  14:53:51    -0.460    -46.000        -1.484%\n",
      "12  002492   恒基达鑫      8.690          -3.229   8.690   8.700      8.980      8.910      8.680      8.910  14:53:51    -0.030     -3.000        -0.344%\n",
      "2   000524   岭南控股     12.520          -3.096  12.520  12.530     12.920     12.780     12.500     12.820  14:53:51    -0.050     -5.000        -0.398%\n",
      "24  600984   建设机械      7.240          -3.079   7.230   7.240      7.470      7.330      7.240      7.440  14:53:51    -0.050     -5.000        -0.686%\n",
      "22  600893   航发动力     28.570          -3.054  28.570  28.630     29.470     29.540     28.500     29.940  14:53:51    -0.690    -69.000        -2.358%\n",
      "17  600281   太化股份      6.220          -2.813   6.220   6.230      6.400      6.400      6.150      6.400  14:53:47    -0.120    -12.000        -1.893%\n",
      "27  603323   吴江银行     10.860          -2.688  10.860  10.870     11.160     11.010     10.830     11.140  14:53:51    -0.070     -7.000        -0.640%\n",
      "7   000721   西安饮食      7.170          -2.183   7.160   7.170      7.330      7.290      7.160      7.290  14:53:51    -0.040     -4.000        -0.555%\n",
      "0   000001   上证指数  3206.9853          -1.679       0       0  3261.7494  3237.9222  3200.7481  3245.1163  14:53:48     6.985      0.000         0.218%\n",
      "21  600865   百大集团     10.070          -1.660  10.070  10.080     10.240     10.170     10.040     10.170  14:53:42     0.000      0.000         0.000%\n",
      "25  601216   君正集团      5.360          -1.289   5.360   5.370      5.430      5.340      5.320      5.560  14:53:51     0.020      2.000         0.375%\n",
      "6   000678   襄阳轴承      8.370          -1.181   8.360   8.370      8.470      8.450      8.290      8.450  14:53:51     0.020      2.000         0.240%\n",
      "26  603113   金能科技     23.450          -1.055  23.440  23.450     23.700     23.490     23.310     24.040  14:53:51    -0.150    -15.000        -0.636%\n",
      "4   000663   永安林业     12.820          -0.927  12.820  12.840     12.940     12.900     12.630     12.900  14:53:51     0.140     14.000         1.104%\n",
      "16  600275  *ST昌鱼      5.800          -0.344   5.790   5.800      5.820      5.780      5.750      5.920  14:53:51    -0.050     -5.000        -0.855%\n",
      "10  000965   天保基建      7.580           0.000   7.580   7.590      7.580      7.510      7.460      7.720  14:53:51     0.080      8.000         1.067%\n",
      "18  600468   百利电气      6.500           0.000   0.000   0.000      6.500      0.000      0.000      0.000  14:53:29     0.000      0.000         0.000%\n",
      "20  600821    津劝业      8.990           0.000   8.980   8.990      8.990      8.990      8.800      9.080  14:53:51     0.130     13.000         1.467%\n",
      "1   000018   神州长城      7.180           0.000   7.180   7.190      7.180      7.100      7.050      7.230  14:53:51     0.040      4.000         0.560%\n",
      "14  600054   黄山旅游     16.090           0.000  16.100  16.110     16.090     16.070     16.060     16.160  14:53:51    -0.020     -2.000        -0.124%\n"
     ]
    }
   ],
   "source": [
    "df = df.join(df_append)\n",
    "df['profit_percent'] = df['profit_percent'].astype('float32')\n",
    "df = df.sort_values('profit_percent', axis=0, ascending=True, inplace=False, kind='quicksort', na_position='last')\n",
    "\n",
    "print(df[['code','name','price','change_percent','bid','ask','pre_close','open','low','high','time','cost_diff','profit','profit_percent']])\n"
   ]
  },
  {
   "cell_type": "code",
   "execution_count": null,
   "metadata": {
    "collapsed": false
   },
   "outputs": [],
   "source": []
  },
  {
   "cell_type": "code",
   "execution_count": null,
   "metadata": {
    "collapsed": true
   },
   "outputs": [],
   "source": []
  }
 ],
 "metadata": {
  "kernelspec": {
   "display_name": "Python 3",
   "language": "python",
   "name": "python3"
  },
  "language_info": {
   "codemirror_mode": {
    "name": "ipython",
    "version": 3
   },
   "file_extension": ".py",
   "mimetype": "text/x-python",
   "name": "python",
   "nbconvert_exporter": "python",
   "pygments_lexer": "ipython3",
   "version": "3.6.0"
  }
 },
 "nbformat": 4,
 "nbformat_minor": 2
}
